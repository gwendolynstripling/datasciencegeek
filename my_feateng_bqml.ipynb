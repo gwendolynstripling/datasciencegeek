{
  "nbformat": 4,
  "nbformat_minor": 0,
  "metadata": {
    "kernelspec": {
      "display_name": "Python 3",
      "language": "python",
      "name": "python3"
    },
    "language_info": {
      "codemirror_mode": {
        "name": "ipython",
        "version": 3
      },
      "file_extension": ".py",
      "mimetype": "text/x-python",
      "name": "python",
      "nbconvert_exporter": "python",
      "pygments_lexer": "ipython3",
      "version": "3.5.3"
    },
    "colab": {
      "name": "my_feateng_bqml.ipynb",
      "provenance": [],
      "collapsed_sections": [],
      "include_colab_link": true
    }
  },
  "cells": [
    {
      "cell_type": "markdown",
      "metadata": {
        "id": "view-in-github",
        "colab_type": "text"
      },
      "source": [
        "<a href=\"https://colab.research.google.com/github/gwendolynstripling/datasciencegeek/blob/master/my_feateng_bqml.ipynb\" target=\"_parent\"><img src=\"https://colab.research.google.com/assets/colab-badge.svg\" alt=\"Open In Colab\"/></a>"
      ]
    },
    {
      "cell_type": "markdown",
      "metadata": {
        "id": "8rcXsB4qnFas",
        "colab_type": "text"
      },
      "source": [
        ""
      ]
    },
    {
      "cell_type": "markdown",
      "metadata": {
        "id": "gDNVDNO-meAI",
        "colab_type": "text"
      },
      "source": [
        "# Feature Engineering with BigQuery Machine Learning\n",
        "\n",
        "In this notebook, we will use BigQuery ML to build a taxifare prediction model, using feature enginnering to improve and create a final model.\n",
        "\n",
        "LEARNING OBJECTIVES:\n",
        "Feature Engineering is the process of transforming raw data into features that are input to the final models.  The aim is to improve the accuracy of the models.  Having good features means we can use simple models fo producing better results.  Good features describe the structure inheren in the data.  \n",
        "\n",
        "In this course, we will understand how to build machine learning models to predict taxi fare and look at the significant impact feature engineering plays in the process.\n",
        "\n",
        "Objectives\n",
        "In this tutorial, you use:\n",
        "BigQuery ML to create a binary linear regression model using the CREATE MODEL statement\n",
        "The ML.EVALUATE function to evaluate the ML model\n",
        "The ML.PREDICT function to make predictions using the ML model\n",
        "\n",
        "LAB SUMMARY:\n",
        "In this series of labs, we are going to predict the fare amount for a taxi ride in New York City, given the pick up, drop off locations and the date and time of the pick up.  We will start from creating a simplest model then we will move to more sophisticated models.\n",
        "\n"
      ]
    },
    {
      "cell_type": "markdown",
      "metadata": {
        "id": "ktdWG56gnA4C",
        "colab_type": "text"
      },
      "source": [
        "General instructions to get into lab go here.\n"
      ]
    },
    {
      "cell_type": "markdown",
      "metadata": {
        "id": "qpDP8NIrnBtF",
        "colab_type": "text"
      },
      "source": [
        "LAB 01 CREATE NEW DATA SET, CREATE BENCHMARK MODEL"
      ]
    },
    {
      "cell_type": "code",
      "metadata": {
        "id": "SaV_XzhPmeAK",
        "colab_type": "code",
        "outputId": "b1df7c57-e6b6-4639-8e5f-246c7e2754e8",
        "colab": {}
      },
      "source": [
        "# if you have not already done so ... create the dataset\n",
        "!bq mk feat_eng_bqml"
      ],
      "execution_count": 0,
      "outputs": [
        {
          "output_type": "stream",
          "text": [
            "Dataset 'cloud-training-demos:serverlessml' successfully created.\n"
          ],
          "name": "stdout"
        }
      ]
    },
    {
      "cell_type": "markdown",
      "metadata": {
        "id": "k7MflPm_oXCr",
        "colab_type": "text"
      },
      "source": [
        "#Step XX: Create the dataset, table, and add data\n",
        "TO DO:\n",
        "Create your dataset\n",
        "Get the dataset - Have it already loaded in cloud storage or how available?  \n",
        "Create a dataset\n",
        "Create a table and name it taxi_bqml_feat_eng (copy the gs bucket path)"
      ]
    },
    {
      "cell_type": "markdown",
      "metadata": {
        "id": "NtwHZKLDolGU",
        "colab_type": "text"
      },
      "source": [
        "#Step XX: Create a new table for our training data\n",
        "\n",
        "Based on exploratrion that we did earlier, apply cleanup, apply conditions, and create a new training  data set.  HERE TALK ABOUT WHY WE ARE USING THESE COORDINATES LAT AND LON.  \n",
        "\n",
        "TO DO:  Create a query that creates a table  and save it as \"feateng_training_data \" (you can copy and paste this query into the query editor).\n"
      ]
    },
    {
      "cell_type": "code",
      "metadata": {
        "id": "7ojwuXNyoxmP",
        "colab_type": "code",
        "colab": {}
      },
      "source": [
        "CREATE TABLE feat_eng_2019.feateng_training_data \n",
        "\n",
        "AS\n",
        "\n",
        "SELECT\n",
        "  fare_amount,\n",
        "  pickup_datetime,\n",
        "  pickup_longitude AS pickuplon,\n",
        "  pickup_latitude AS pickuplat,\n",
        "  dropoff_longitude AS dropofflon,\n",
        "  dropoff_latitude AS dropofflat,\n",
        "  passenger_count\n",
        "\n",
        "FROM `feat_eng_2019.taxi_bqml_feat_eng`\n",
        "\n",
        "WHERE MOD(ABS(FARM_FINGERPRINT(CAST(pickup_datetime AS STRING))), 1000) = 1 #WHEN WE CREATE FEATURE ENGINEERING DATA, PUT IN AOBVE TO JUST SAMPLE A PART OF DATA - THAT WAY WE ARE NOT TRAINING 1 BILLION BUT INSTAED 1 MILL TO KEEEO COSTS DOWN. \n",
        "\n",
        "  AND fare_amount >= 2.5\n",
        "  AND passenger_count > 0\n",
        "  AND pickup_longitude > -78\n",
        "  AND pickup_longitude < -70\n",
        "  AND dropoff_longitude > -78\n",
        "  AND dropoff_longitude < -70\n",
        "  AND pickup_latitude > 37\n",
        "  AND pickup_latitude < 45\n",
        "  AND dropoff_latitude > 37\n",
        "  AND dropoff_latitude < 45"
      ],
      "execution_count": 0,
      "outputs": []
    },
    {
      "cell_type": "markdown",
      "metadata": {
        "id": "jIOcXtejtEwI",
        "colab_type": "text"
      },
      "source": [
        "TO DO: View the table details and note the features and their data type. Note Datatype - pickup_datetime - TIMESTAMP, passenger_count-Integer, all others are floats."
      ]
    },
    {
      "cell_type": "markdown",
      "metadata": {
        "id": "bGj706_imeAP",
        "colab_type": "text"
      },
      "source": [
        "## Model 4: With some transformations\n",
        "\n",
        "BigQuery ML automatically scales the inputs. so we don't need to do scaling, but human insight can help.\n",
        "\n",
        "Since we we'll repeat this quite a bit, let's make a dataset with 1 million rows. "
      ]
    },
    {
      "cell_type": "code",
      "metadata": {
        "id": "ysnAOXgImeAR",
        "colab_type": "code",
        "outputId": "1007e2b1-721a-4221-b7ac-8e73fefb8eaf",
        "colab": {}
      },
      "source": [
        "%%bigquery\n",
        "CREATE OR REPLACE TABLE serverlessml.feateng_training_data AS\n",
        "\n",
        "SELECT\n",
        "  (tolls_amount + fare_amount) AS fare_amount,\n",
        "  pickup_datetime,\n",
        "  pickup_longitude AS pickuplon,\n",
        "  pickup_latitude AS pickuplat,\n",
        "  dropoff_longitude AS dropofflon,\n",
        "  dropoff_latitude AS dropofflat,\n",
        "  passenger_count*1.0 AS passengers\n",
        "FROM `nyc-tlc.yellow.trips`\n",
        "WHERE MOD(ABS(FARM_FINGERPRINT(CAST(pickup_datetime AS STRING))), 1000) = 1\n",
        "AND\n",
        "  trip_distance > 0\n",
        "  AND fare_amount >= 2.5\n",
        "  AND pickup_longitude > -78\n",
        "  AND pickup_longitude < -70\n",
        "  AND dropoff_longitude > -78\n",
        "  AND dropoff_longitude < -70\n",
        "  AND pickup_latitude > 37\n",
        "  AND pickup_latitude < 45\n",
        "  AND dropoff_latitude > 37\n",
        "  AND dropoff_latitude < 45\n",
        "  AND passenger_count > 0"
      ],
      "execution_count": 0,
      "outputs": [
        {
          "output_type": "execute_result",
          "data": {
            "text/html": [
              "<div>\n",
              "<style scoped>\n",
              "    .dataframe tbody tr th:only-of-type {\n",
              "        vertical-align: middle;\n",
              "    }\n",
              "\n",
              "    .dataframe tbody tr th {\n",
              "        vertical-align: top;\n",
              "    }\n",
              "\n",
              "    .dataframe thead th {\n",
              "        text-align: right;\n",
              "    }\n",
              "</style>\n",
              "<table border=\"1\" class=\"dataframe\">\n",
              "  <thead>\n",
              "    <tr style=\"text-align: right;\">\n",
              "      <th></th>\n",
              "    </tr>\n",
              "  </thead>\n",
              "  <tbody>\n",
              "  </tbody>\n",
              "</table>\n",
              "</div>"
            ],
            "text/plain": [
              "Empty DataFrame\n",
              "Columns: []\n",
              "Index: []"
            ]
          },
          "metadata": {
            "tags": []
          },
          "execution_count": 1
        }
      ]
    },
    {
      "cell_type": "code",
      "metadata": {
        "id": "nFP9qrNOmeAV",
        "colab_type": "code",
        "outputId": "ccd8048e-6c4d-445f-c9ac-10e617a3f86a",
        "colab": {}
      },
      "source": [
        "%%bigquery\n",
        "CREATE OR REPLACE MODEL serverlessml.model4_feateng\n",
        "TRANSFORM(\n",
        "  * EXCEPT(pickup_datetime)\n",
        "  , ST_Distance(ST_GeogPoint(pickuplon, pickuplat), ST_GeogPoint(dropofflon, dropofflat)) AS euclidean\n",
        "  , CAST(EXTRACT(DAYOFWEEK FROM pickup_datetime) AS STRING) AS dayofweek\n",
        "  , CAST(EXTRACT(HOUR FROM pickup_datetime) AS STRING) AS hourofday\n",
        ")\n",
        "OPTIONS(input_label_cols=['fare_amount'], model_type='linear_reg') \n",
        "AS\n",
        "\n",
        "SELECT * FROM serverlessml.feateng_training_data"
      ],
      "execution_count": 0,
      "outputs": [
        {
          "output_type": "execute_result",
          "data": {
            "text/html": [
              "<div>\n",
              "<style scoped>\n",
              "    .dataframe tbody tr th:only-of-type {\n",
              "        vertical-align: middle;\n",
              "    }\n",
              "\n",
              "    .dataframe tbody tr th {\n",
              "        vertical-align: top;\n",
              "    }\n",
              "\n",
              "    .dataframe thead th {\n",
              "        text-align: right;\n",
              "    }\n",
              "</style>\n",
              "<table border=\"1\" class=\"dataframe\">\n",
              "  <thead>\n",
              "    <tr style=\"text-align: right;\">\n",
              "      <th></th>\n",
              "    </tr>\n",
              "  </thead>\n",
              "  <tbody>\n",
              "  </tbody>\n",
              "</table>\n",
              "</div>"
            ],
            "text/plain": [
              "Empty DataFrame\n",
              "Columns: []\n",
              "Index: []"
            ]
          },
          "metadata": {
            "tags": []
          },
          "execution_count": 2
        }
      ]
    },
    {
      "cell_type": "markdown",
      "metadata": {
        "id": "7B32lM1jmeAa",
        "colab_type": "text"
      },
      "source": [
        "Once the training is done, visit the [BigQuery Cloud Console](https://console.cloud.google.com/bigquery) and look at the model that has been trained. Then, come back to this notebook."
      ]
    },
    {
      "cell_type": "markdown",
      "metadata": {
        "id": "8OCvMTSrmeAb",
        "colab_type": "text"
      },
      "source": [
        "Note that BigQuery automatically split the data we gave it, and trained on only a part of the data and used the rest for evaluation. We can look at eval statistics on that held-out data:"
      ]
    },
    {
      "cell_type": "code",
      "metadata": {
        "id": "NT8wrTlGmeAc",
        "colab_type": "code",
        "outputId": "22b30635-d004-4b4f-8463-699f594d9670",
        "colab": {}
      },
      "source": [
        "%%bigquery\n",
        "SELECT *, SQRT(loss) AS rmse FROM ML.TRAINING_INFO(MODEL serverlessml.model4_feateng)"
      ],
      "execution_count": 0,
      "outputs": [
        {
          "output_type": "execute_result",
          "data": {
            "text/html": [
              "<div>\n",
              "<style scoped>\n",
              "    .dataframe tbody tr th:only-of-type {\n",
              "        vertical-align: middle;\n",
              "    }\n",
              "\n",
              "    .dataframe tbody tr th {\n",
              "        vertical-align: top;\n",
              "    }\n",
              "\n",
              "    .dataframe thead th {\n",
              "        text-align: right;\n",
              "    }\n",
              "</style>\n",
              "<table border=\"1\" class=\"dataframe\">\n",
              "  <thead>\n",
              "    <tr style=\"text-align: right;\">\n",
              "      <th></th>\n",
              "      <th>training_run</th>\n",
              "      <th>iteration</th>\n",
              "      <th>loss</th>\n",
              "      <th>eval_loss</th>\n",
              "      <th>duration_ms</th>\n",
              "      <th>learning_rate</th>\n",
              "      <th>rmse</th>\n",
              "    </tr>\n",
              "  </thead>\n",
              "  <tbody>\n",
              "    <tr>\n",
              "      <th>0</th>\n",
              "      <td>0</td>\n",
              "      <td>0</td>\n",
              "      <td>27.29494</td>\n",
              "      <td>27.622322</td>\n",
              "      <td>25216</td>\n",
              "      <td>None</td>\n",
              "      <td>5.224456</td>\n",
              "    </tr>\n",
              "  </tbody>\n",
              "</table>\n",
              "</div>"
            ],
            "text/plain": [
              "   training_run  iteration      loss  eval_loss  duration_ms learning_rate  \\\n",
              "0             0          0  27.29494  27.622322        25216          None   \n",
              "\n",
              "       rmse  \n",
              "0  5.224456  "
            ]
          },
          "metadata": {
            "tags": []
          },
          "execution_count": 8
        }
      ]
    },
    {
      "cell_type": "code",
      "metadata": {
        "id": "m5QW3rTPmeAe",
        "colab_type": "code",
        "outputId": "36cdb131-3fe0-4e8f-850c-9d30b369ca24",
        "colab": {}
      },
      "source": [
        "%%bigquery\n",
        "SELECT SQRT(mean_squared_error) AS rmse FROM ML.EVALUATE(MODEL serverlessml.model4_feateng)"
      ],
      "execution_count": 0,
      "outputs": [
        {
          "output_type": "execute_result",
          "data": {
            "text/html": [
              "<div>\n",
              "<style scoped>\n",
              "    .dataframe tbody tr th:only-of-type {\n",
              "        vertical-align: middle;\n",
              "    }\n",
              "\n",
              "    .dataframe tbody tr th {\n",
              "        vertical-align: top;\n",
              "    }\n",
              "\n",
              "    .dataframe thead th {\n",
              "        text-align: right;\n",
              "    }\n",
              "</style>\n",
              "<table border=\"1\" class=\"dataframe\">\n",
              "  <thead>\n",
              "    <tr style=\"text-align: right;\">\n",
              "      <th></th>\n",
              "      <th>rmse</th>\n",
              "    </tr>\n",
              "  </thead>\n",
              "  <tbody>\n",
              "    <tr>\n",
              "      <th>0</th>\n",
              "      <td>5.255694</td>\n",
              "    </tr>\n",
              "  </tbody>\n",
              "</table>\n",
              "</div>"
            ],
            "text/plain": [
              "       rmse\n",
              "0  5.255694"
            ]
          },
          "metadata": {
            "tags": []
          },
          "execution_count": 3
        }
      ]
    },
    {
      "cell_type": "markdown",
      "metadata": {
        "id": "7NqlajsQmeAi",
        "colab_type": "text"
      },
      "source": [
        "Yippee! We're now below our target of 6 dollars in RMSE.\n",
        "We are now beating our goals, and with just a linear model.  This is how the prediction query would look:"
      ]
    },
    {
      "cell_type": "code",
      "metadata": {
        "id": "2Hgq7BVhmeAk",
        "colab_type": "code",
        "outputId": "3a7bbbd7-2577-40a1-e72c-073ab5d6b84b",
        "colab": {}
      },
      "source": [
        "%%bigquery\n",
        "SELECT * FROM ML.PREDICT(MODEL serverlessml.model4_feateng, (\n",
        "  SELECT \n",
        "    -73.982683 AS pickuplon,\n",
        "    40.742104 AS pickuplat,\n",
        "    -73.983766 AS dropofflon,\n",
        "    40.755174 AS dropofflat,\n",
        "    3.0 AS passengers,\n",
        "    TIMESTAMP('2019-06-03 04:21:29.769443 UTC') AS pickup_datetime\n",
        "))"
      ],
      "execution_count": 0,
      "outputs": [
        {
          "output_type": "execute_result",
          "data": {
            "text/html": [
              "<div>\n",
              "<style scoped>\n",
              "    .dataframe tbody tr th:only-of-type {\n",
              "        vertical-align: middle;\n",
              "    }\n",
              "\n",
              "    .dataframe tbody tr th {\n",
              "        vertical-align: top;\n",
              "    }\n",
              "\n",
              "    .dataframe thead th {\n",
              "        text-align: right;\n",
              "    }\n",
              "</style>\n",
              "<table border=\"1\" class=\"dataframe\">\n",
              "  <thead>\n",
              "    <tr style=\"text-align: right;\">\n",
              "      <th></th>\n",
              "      <th>predicted_fare_amount</th>\n",
              "      <th>pickuplon</th>\n",
              "      <th>pickuplat</th>\n",
              "      <th>dropofflon</th>\n",
              "      <th>dropofflat</th>\n",
              "      <th>passengers</th>\n",
              "      <th>pickup_datetime</th>\n",
              "    </tr>\n",
              "  </thead>\n",
              "  <tbody>\n",
              "    <tr>\n",
              "      <th>0</th>\n",
              "      <td>7.156002</td>\n",
              "      <td>-73.982683</td>\n",
              "      <td>40.742104</td>\n",
              "      <td>-73.983766</td>\n",
              "      <td>40.755174</td>\n",
              "      <td>3.0</td>\n",
              "      <td>2019-06-03 04:21:29.769443+00:00</td>\n",
              "    </tr>\n",
              "  </tbody>\n",
              "</table>\n",
              "</div>"
            ],
            "text/plain": [
              "   predicted_fare_amount  pickuplon  pickuplat  dropofflon  dropofflat  \\\n",
              "0               7.156002 -73.982683  40.742104  -73.983766   40.755174   \n",
              "\n",
              "   passengers                  pickup_datetime  \n",
              "0         3.0 2019-06-03 04:21:29.769443+00:00  "
            ]
          },
          "metadata": {
            "tags": []
          },
          "execution_count": 4
        }
      ]
    },
    {
      "cell_type": "markdown",
      "metadata": {
        "id": "5dT3B4uwmeAm",
        "colab_type": "text"
      },
      "source": [
        "## Let's do a feature cross of the day-hour combination instead of using them raw"
      ]
    },
    {
      "cell_type": "code",
      "metadata": {
        "id": "G18v9cR9meAn",
        "colab_type": "code",
        "outputId": "4626f4c3-29de-450a-ee9d-dc9e7262ba5f",
        "colab": {}
      },
      "source": [
        "%%bigquery\n",
        "CREATE OR REPLACE MODEL serverlessml.model5_featcross\n",
        "TRANSFORM(\n",
        "  * EXCEPT(pickup_datetime)\n",
        "  , ST_Distance(ST_GeogPoint(pickuplon, pickuplat), ST_GeogPoint(dropofflon, dropofflat)) AS euclidean\n",
        "  , CONCAT(CAST(EXTRACT(DAYOFWEEK FROM pickup_datetime) AS STRING),\n",
        "           CAST(EXTRACT(HOUR FROM pickup_datetime) AS STRING)) AS day_hr\n",
        ")\n",
        "OPTIONS(input_label_cols=['fare_amount'], model_type='linear_reg') \n",
        "AS\n",
        "\n",
        "SELECT * FROM serverlessml.feateng_training_data"
      ],
      "execution_count": 0,
      "outputs": [
        {
          "output_type": "execute_result",
          "data": {
            "text/html": [
              "<div>\n",
              "<style scoped>\n",
              "    .dataframe tbody tr th:only-of-type {\n",
              "        vertical-align: middle;\n",
              "    }\n",
              "\n",
              "    .dataframe tbody tr th {\n",
              "        vertical-align: top;\n",
              "    }\n",
              "\n",
              "    .dataframe thead th {\n",
              "        text-align: right;\n",
              "    }\n",
              "</style>\n",
              "<table border=\"1\" class=\"dataframe\">\n",
              "  <thead>\n",
              "    <tr style=\"text-align: right;\">\n",
              "      <th></th>\n",
              "    </tr>\n",
              "  </thead>\n",
              "  <tbody>\n",
              "  </tbody>\n",
              "</table>\n",
              "</div>"
            ],
            "text/plain": [
              "Empty DataFrame\n",
              "Columns: []\n",
              "Index: []"
            ]
          },
          "metadata": {
            "tags": []
          },
          "execution_count": 5
        }
      ]
    },
    {
      "cell_type": "code",
      "metadata": {
        "id": "BZFGbpgCmeAq",
        "colab_type": "code",
        "outputId": "02077b73-22f2-440a-d8b5-2f689d28b393",
        "colab": {}
      },
      "source": [
        "%%bigquery\n",
        "SELECT *, SQRT(loss) AS rmse FROM ML.TRAINING_INFO(MODEL serverlessml.model5_featcross)"
      ],
      "execution_count": 0,
      "outputs": [
        {
          "output_type": "execute_result",
          "data": {
            "text/html": [
              "<div>\n",
              "<style scoped>\n",
              "    .dataframe tbody tr th:only-of-type {\n",
              "        vertical-align: middle;\n",
              "    }\n",
              "\n",
              "    .dataframe tbody tr th {\n",
              "        vertical-align: top;\n",
              "    }\n",
              "\n",
              "    .dataframe thead th {\n",
              "        text-align: right;\n",
              "    }\n",
              "</style>\n",
              "<table border=\"1\" class=\"dataframe\">\n",
              "  <thead>\n",
              "    <tr style=\"text-align: right;\">\n",
              "      <th></th>\n",
              "      <th>training_run</th>\n",
              "      <th>iteration</th>\n",
              "      <th>loss</th>\n",
              "      <th>eval_loss</th>\n",
              "      <th>duration_ms</th>\n",
              "      <th>learning_rate</th>\n",
              "      <th>rmse</th>\n",
              "    </tr>\n",
              "  </thead>\n",
              "  <tbody>\n",
              "    <tr>\n",
              "      <th>0</th>\n",
              "      <td>0</td>\n",
              "      <td>0</td>\n",
              "      <td>27.231971</td>\n",
              "      <td>27.550824</td>\n",
              "      <td>21671</td>\n",
              "      <td>None</td>\n",
              "      <td>5.218426</td>\n",
              "    </tr>\n",
              "  </tbody>\n",
              "</table>\n",
              "</div>"
            ],
            "text/plain": [
              "   training_run  iteration       loss  eval_loss  duration_ms learning_rate  \\\n",
              "0             0          0  27.231971  27.550824        21671          None   \n",
              "\n",
              "       rmse  \n",
              "0  5.218426  "
            ]
          },
          "metadata": {
            "tags": []
          },
          "execution_count": 6
        }
      ]
    },
    {
      "cell_type": "code",
      "metadata": {
        "id": "FeSWABnJmeAu",
        "colab_type": "code",
        "outputId": "fe683435-51ac-4d0e-e6e6-49544a088273",
        "colab": {}
      },
      "source": [
        "%%bigquery\n",
        "SELECT SQRT(mean_squared_error) AS rmse FROM ML.EVALUATE(MODEL serverlessml.model5_featcross)"
      ],
      "execution_count": 0,
      "outputs": [
        {
          "output_type": "execute_result",
          "data": {
            "text/html": [
              "<div>\n",
              "<style scoped>\n",
              "    .dataframe tbody tr th:only-of-type {\n",
              "        vertical-align: middle;\n",
              "    }\n",
              "\n",
              "    .dataframe tbody tr th {\n",
              "        vertical-align: top;\n",
              "    }\n",
              "\n",
              "    .dataframe thead th {\n",
              "        text-align: right;\n",
              "    }\n",
              "</style>\n",
              "<table border=\"1\" class=\"dataframe\">\n",
              "  <thead>\n",
              "    <tr style=\"text-align: right;\">\n",
              "      <th></th>\n",
              "      <th>rmse</th>\n",
              "    </tr>\n",
              "  </thead>\n",
              "  <tbody>\n",
              "    <tr>\n",
              "      <th>0</th>\n",
              "      <td>5.248888</td>\n",
              "    </tr>\n",
              "  </tbody>\n",
              "</table>\n",
              "</div>"
            ],
            "text/plain": [
              "       rmse\n",
              "0  5.248888"
            ]
          },
          "metadata": {
            "tags": []
          },
          "execution_count": 7
        }
      ]
    },
    {
      "cell_type": "markdown",
      "metadata": {
        "id": "8V8u0qNcmeAw",
        "colab_type": "text"
      },
      "source": [
        "Sometimes (not the case above), the training RMSE is quite reasonable, but the evaluation RMSE is terrible. This is an indication of overfitting.\n",
        "When we do feature crosses, we run into the risk of overfitting (for example, when a particular day-hour combo doesn't have enough taxirides).\n",
        "\n",
        "## Reducing overfitting\n",
        "\n",
        "Let's add L2 regularization."
      ]
    },
    {
      "cell_type": "code",
      "metadata": {
        "id": "140IU-u0meAx",
        "colab_type": "code",
        "outputId": "c745728e-852f-41b5-dafb-d259d775a934",
        "colab": {}
      },
      "source": [
        "%%bigquery\n",
        "CREATE OR REPLACE MODEL serverlessml.model6_featcross_l2\n",
        "TRANSFORM(\n",
        "  * EXCEPT(pickup_datetime)\n",
        "  , ST_Distance(ST_GeogPoint(pickuplon, pickuplat), ST_GeogPoint(dropofflon, dropofflat)) AS euclidean\n",
        "  , CONCAT(CAST(EXTRACT(DAYOFWEEK FROM pickup_datetime) AS STRING),\n",
        "           CAST(EXTRACT(HOUR FROM pickup_datetime) AS STRING)) AS day_hr\n",
        ")\n",
        "OPTIONS(input_label_cols=['fare_amount'], model_type='linear_reg', l2_reg=0.1) \n",
        "AS\n",
        "\n",
        "SELECT * FROM serverlessml.feateng_training_data"
      ],
      "execution_count": 0,
      "outputs": [
        {
          "output_type": "execute_result",
          "data": {
            "text/html": [
              "<div>\n",
              "<style scoped>\n",
              "    .dataframe tbody tr th:only-of-type {\n",
              "        vertical-align: middle;\n",
              "    }\n",
              "\n",
              "    .dataframe tbody tr th {\n",
              "        vertical-align: top;\n",
              "    }\n",
              "\n",
              "    .dataframe thead th {\n",
              "        text-align: right;\n",
              "    }\n",
              "</style>\n",
              "<table border=\"1\" class=\"dataframe\">\n",
              "  <thead>\n",
              "    <tr style=\"text-align: right;\">\n",
              "      <th></th>\n",
              "    </tr>\n",
              "  </thead>\n",
              "  <tbody>\n",
              "  </tbody>\n",
              "</table>\n",
              "</div>"
            ],
            "text/plain": [
              "Empty DataFrame\n",
              "Columns: []\n",
              "Index: []"
            ]
          },
          "metadata": {
            "tags": []
          },
          "execution_count": 9
        }
      ]
    },
    {
      "cell_type": "code",
      "metadata": {
        "id": "A4BBNyPNmeA2",
        "colab_type": "code",
        "outputId": "8abb0c25-323c-4119-e17a-eeee5556365c",
        "colab": {}
      },
      "source": [
        "%%bigquery\n",
        "SELECT SQRT(mean_squared_error) AS rmse FROM ML.EVALUATE(MODEL serverlessml.model6_featcross_l2)"
      ],
      "execution_count": 0,
      "outputs": [
        {
          "output_type": "execute_result",
          "data": {
            "text/html": [
              "<div>\n",
              "<style scoped>\n",
              "    .dataframe tbody tr th:only-of-type {\n",
              "        vertical-align: middle;\n",
              "    }\n",
              "\n",
              "    .dataframe tbody tr th {\n",
              "        vertical-align: top;\n",
              "    }\n",
              "\n",
              "    .dataframe thead th {\n",
              "        text-align: right;\n",
              "    }\n",
              "</style>\n",
              "<table border=\"1\" class=\"dataframe\">\n",
              "  <thead>\n",
              "    <tr style=\"text-align: right;\">\n",
              "      <th></th>\n",
              "      <th>rmse</th>\n",
              "    </tr>\n",
              "  </thead>\n",
              "  <tbody>\n",
              "    <tr>\n",
              "      <th>0</th>\n",
              "      <td>5.248888</td>\n",
              "    </tr>\n",
              "  </tbody>\n",
              "</table>\n",
              "</div>"
            ],
            "text/plain": [
              "       rmse\n",
              "0  5.248888"
            ]
          },
          "metadata": {
            "tags": []
          },
          "execution_count": 10
        }
      ]
    },
    {
      "cell_type": "markdown",
      "metadata": {
        "id": "bvYdpqLumeA6",
        "colab_type": "text"
      },
      "source": [
        "These sorts of experiment would have taken days to do otherwise. We did it in minutes, thanks to BigQuery ML!  The advantage of doing all this in the TRANSFORM is the client code doing the PREDICT doesn't change. Our model improvement is transparent to client code."
      ]
    },
    {
      "cell_type": "code",
      "metadata": {
        "id": "tXPAK0bGmeA7",
        "colab_type": "code",
        "outputId": "a464fb10-41a9-4c2d-e5b4-223a76cc9f31",
        "colab": {}
      },
      "source": [
        "%%bigquery\n",
        "SELECT * FROM ML.PREDICT(MODEL serverlessml.model6_featcross_l2, (\n",
        "  SELECT \n",
        "    -73.982683 AS pickuplon,\n",
        "    40.742104 AS pickuplat,\n",
        "    -73.983766 AS dropofflon,\n",
        "    40.755174 AS dropofflat,\n",
        "    3.0 AS passengers,\n",
        "    TIMESTAMP('2019-06-03 04:21:29.769443 UTC') AS pickup_datetime\n",
        "))"
      ],
      "execution_count": 0,
      "outputs": [
        {
          "output_type": "execute_result",
          "data": {
            "text/html": [
              "<div>\n",
              "<style scoped>\n",
              "    .dataframe tbody tr th:only-of-type {\n",
              "        vertical-align: middle;\n",
              "    }\n",
              "\n",
              "    .dataframe tbody tr th {\n",
              "        vertical-align: top;\n",
              "    }\n",
              "\n",
              "    .dataframe thead th {\n",
              "        text-align: right;\n",
              "    }\n",
              "</style>\n",
              "<table border=\"1\" class=\"dataframe\">\n",
              "  <thead>\n",
              "    <tr style=\"text-align: right;\">\n",
              "      <th></th>\n",
              "      <th>predicted_fare_amount</th>\n",
              "      <th>pickuplon</th>\n",
              "      <th>pickuplat</th>\n",
              "      <th>dropofflon</th>\n",
              "      <th>dropofflat</th>\n",
              "      <th>passengers</th>\n",
              "      <th>pickup_datetime</th>\n",
              "    </tr>\n",
              "  </thead>\n",
              "  <tbody>\n",
              "    <tr>\n",
              "      <th>0</th>\n",
              "      <td>7.508199</td>\n",
              "      <td>-73.982683</td>\n",
              "      <td>40.742104</td>\n",
              "      <td>-73.983766</td>\n",
              "      <td>40.755174</td>\n",
              "      <td>3.0</td>\n",
              "      <td>2019-06-03 04:21:29.769443+00:00</td>\n",
              "    </tr>\n",
              "  </tbody>\n",
              "</table>\n",
              "</div>"
            ],
            "text/plain": [
              "   predicted_fare_amount  pickuplon  pickuplat  dropofflon  dropofflat  \\\n",
              "0               7.508199 -73.982683  40.742104  -73.983766   40.755174   \n",
              "\n",
              "   passengers                  pickup_datetime  \n",
              "0         3.0 2019-06-03 04:21:29.769443+00:00  "
            ]
          },
          "metadata": {
            "tags": []
          },
          "execution_count": 11
        }
      ]
    },
    {
      "cell_type": "markdown",
      "metadata": {
        "id": "1LjKptNdmeA-",
        "colab_type": "text"
      },
      "source": [
        "## Let's try feature crossing the locations too\n",
        "\n",
        "Because the lat and lon by themselves don't have meaning, but only in conjunction, it may be useful to treat the fields as a pair instead of just using them as numeric values. However, lat and lon are continuous numbers, so we have to discretize them first. That's what SnapToGrid does. "
      ]
    },
    {
      "cell_type": "code",
      "metadata": {
        "id": "HiPKmR-_meA-",
        "colab_type": "code",
        "colab": {}
      },
      "source": [
        "%%bigquery\n",
        "CREATE OR REPLACE MODEL serverlessml.model7_geo\n",
        "TRANSFORM(\n",
        "  fare_amount\n",
        "  , ST_Distance(ST_GeogPoint(pickuplon, pickuplat), ST_GeogPoint(dropofflon, dropofflat)) AS euclidean\n",
        "  , CONCAT(CAST(EXTRACT(DAYOFWEEK FROM pickup_datetime) AS STRING),\n",
        "           CAST(EXTRACT(HOUR FROM pickup_datetime) AS STRING)) AS day_hr\n",
        "  , CONCAT(\n",
        "     ST_AsText(ST_SnapToGrid(ST_GeogPoint(pickuplon, pickuplat), 0.01)),\n",
        "     ST_AsText(ST_SnapToGrid(ST_GeogPoint(dropofflon, dropofflat), 0.01))\n",
        "  ) AS pickup_and_dropoff\n",
        ")\n",
        "OPTIONS(input_label_cols=['fare_amount'], model_type='linear_reg', l2_reg=0.1) \n",
        "AS\n",
        "\n",
        "SELECT * FROM serverlessml.feateng_training_data"
      ],
      "execution_count": 0,
      "outputs": []
    },
    {
      "cell_type": "code",
      "metadata": {
        "id": "64r004ovmeBB",
        "colab_type": "code",
        "outputId": "13ce3429-77a2-4bce-c7bf-d819b2531394",
        "colab": {}
      },
      "source": [
        "%%bigquery\n",
        "SELECT SQRT(mean_squared_error) AS rmse FROM ML.EVALUATE(MODEL serverlessml.model7_geo)"
      ],
      "execution_count": 0,
      "outputs": [
        {
          "output_type": "execute_result",
          "data": {
            "text/html": [
              "<div>\n",
              "<style scoped>\n",
              "    .dataframe tbody tr th:only-of-type {\n",
              "        vertical-align: middle;\n",
              "    }\n",
              "\n",
              "    .dataframe tbody tr th {\n",
              "        vertical-align: top;\n",
              "    }\n",
              "\n",
              "    .dataframe thead th {\n",
              "        text-align: right;\n",
              "    }\n",
              "</style>\n",
              "<table border=\"1\" class=\"dataframe\">\n",
              "  <thead>\n",
              "    <tr style=\"text-align: right;\">\n",
              "      <th></th>\n",
              "      <th>f0_</th>\n",
              "    </tr>\n",
              "  </thead>\n",
              "  <tbody>\n",
              "    <tr>\n",
              "      <th>0</th>\n",
              "      <td>5.944107</td>\n",
              "    </tr>\n",
              "  </tbody>\n",
              "</table>\n",
              "</div>"
            ],
            "text/plain": [
              "        f0_\n",
              "0  5.944107"
            ]
          },
          "metadata": {
            "tags": []
          },
          "execution_count": 30
        }
      ]
    },
    {
      "cell_type": "markdown",
      "metadata": {
        "id": "sLu6X2l7meBF",
        "colab_type": "text"
      },
      "source": [
        "Yippee!  We're now below our target of 6 dollars in RMSE."
      ]
    },
    {
      "cell_type": "markdown",
      "metadata": {
        "id": "veprHJK1meBG",
        "colab_type": "text"
      },
      "source": [
        "## DNN\n",
        "\n",
        "You could, of course, train a more sophisticated model.  Change \"linear_reg\" above to \"dnn_regressor\" and see if it improves things."
      ]
    },
    {
      "cell_type": "code",
      "metadata": {
        "id": "2GSRWaRSmeBH",
        "colab_type": "code",
        "colab": {}
      },
      "source": [
        "%%bigquery\n",
        "-- This is alpha and may not work for you.\n",
        "CREATE OR REPLACE MODEL serverlessml.model8_dnn\n",
        "TRANSFORM(\n",
        "  fare_amount\n",
        "  , ST_Distance(ST_GeogPoint(pickuplon, pickuplat), ST_GeogPoint(dropofflon, dropofflat)) AS euclidean\n",
        "  , CONCAT(CAST(EXTRACT(DAYOFWEEK FROM pickup_datetime) AS STRING),\n",
        "           CAST(EXTRACT(HOUR FROM pickup_datetime) AS STRING)) AS day_hr\n",
        "  , CONCAT(\n",
        "     ST_AsText(ST_SnapToGrid(ST_GeogPoint(pickuplon, pickuplat), 0.01)),\n",
        "     ST_AsText(ST_SnapToGrid(ST_GeogPoint(dropofflon, dropofflat), 0.01))\n",
        "  ) AS pickup_and_dropoff\n",
        ")\n",
        "-- at the time of writing, l2_reg wasn't supported yet.\n",
        "OPTIONS(input_label_cols=['fare_amount'], model_type='dnn_regressor', hidden_units=[32, 8]) \n",
        "AS\n",
        "\n",
        "SELECT * FROM serverlessml.feateng_training_data"
      ],
      "execution_count": 0,
      "outputs": []
    },
    {
      "cell_type": "code",
      "metadata": {
        "id": "M-96Fdz1meBK",
        "colab_type": "code",
        "outputId": "3ca21163-d1fb-43ad-d895-8111ff33ac6c",
        "colab": {}
      },
      "source": [
        "%%bigquery\n",
        "SELECT SQRT(mean_squared_error) AS rmse FROM ML.EVALUATE(MODEL serverlessml.model8_dnn)"
      ],
      "execution_count": 0,
      "outputs": [
        {
          "output_type": "execute_result",
          "data": {
            "text/html": [
              "<div>\n",
              "<style scoped>\n",
              "    .dataframe tbody tr th:only-of-type {\n",
              "        vertical-align: middle;\n",
              "    }\n",
              "\n",
              "    .dataframe tbody tr th {\n",
              "        vertical-align: top;\n",
              "    }\n",
              "\n",
              "    .dataframe thead th {\n",
              "        text-align: right;\n",
              "    }\n",
              "</style>\n",
              "<table border=\"1\" class=\"dataframe\">\n",
              "  <thead>\n",
              "    <tr style=\"text-align: right;\">\n",
              "      <th></th>\n",
              "      <th>rmse</th>\n",
              "    </tr>\n",
              "  </thead>\n",
              "  <tbody>\n",
              "    <tr>\n",
              "      <th>0</th>\n",
              "      <td>5.683442</td>\n",
              "    </tr>\n",
              "  </tbody>\n",
              "</table>\n",
              "</div>"
            ],
            "text/plain": [
              "       rmse\n",
              "0  5.683442"
            ]
          },
          "metadata": {
            "tags": []
          },
          "execution_count": 40
        }
      ]
    },
    {
      "cell_type": "markdown",
      "metadata": {
        "id": "2N5r4S1AmeBM",
        "colab_type": "text"
      },
      "source": [
        "We really need the L2 reg (recall that we got 4.77 without the feateng). Let's do this in Keras."
      ]
    },
    {
      "cell_type": "markdown",
      "metadata": {
        "id": "C0vnTtHMmeBN",
        "colab_type": "text"
      },
      "source": [
        "Copyright 2019 Google Inc.\n",
        "Licensed under the Apache License, Version 2.0 (the \"License\"); you may not use this file except in compliance with the License. You may obtain a copy of the License at\n",
        "http://www.apache.org/licenses/LICENSE-2.0\n",
        "Unless required by applicable law or agreed to in writing, software distributed under the License is distributed on an \"AS IS\" BASIS, WITHOUT WARRANTIES OR CONDITIONS OF ANY KIND, either express or implied. See the License for the specific language governing permissions and limitations under the License."
      ]
    }
  ]
}